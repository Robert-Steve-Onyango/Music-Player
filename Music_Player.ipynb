{
  "nbformat": 4,
  "nbformat_minor": 0,
  "metadata": {
    "colab": {
      "provenance": []
    },
    "kernelspec": {
      "name": "python3",
      "display_name": "Python 3"
    },
    "language_info": {
      "name": "python"
    }
  },
  "cells": [
    {
      "cell_type": "code",
      "execution_count": null,
      "metadata": {
        "id": "1FFagIpXyhnW"
      },
      "outputs": [],
      "source": [
        "import tkinter as tk\n",
        "import os\n",
        "from pygame import mixer\n",
        "\n",
        "class MusicPlayer:\n",
        "    def __init__(self, root):\n",
        "        self.root = root\n",
        "        self.root.title(\"Music Player\")\n",
        "        self.root.geometry(\"300x100\")\n",
        "\n",
        "        # Initialize Pygame mixer\n",
        "        mixer.init()\n",
        "\n",
        "        # Create a variable to store the current playing status\n",
        "        self.playing = False\n",
        "\n",
        "        # Create a variable to store the current selected song\n",
        "        self.current_song = None\n",
        "\n",
        "        # Create the UI elements\n",
        "        self.label = tk.Label(root, text=\"Music Player\")\n",
        "        self.label.pack()\n",
        "\n",
        "        self.play_button = tk.Button(root, text=\"Play\", command=self.play_music)\n",
        "        self.play_button.pack()\n",
        "\n",
        "        self.stop_button = tk.Button(root, text=\"Stop\", command=self.stop_music)\n",
        "        self.stop_button.pack()\n",
        "\n",
        "        self.browse_button = tk.Button(root, text=\"Browse\", command=self.browse_music)\n",
        "        self.browse_button.pack()\n",
        "\n",
        "    def play_music(self):\n",
        "        if self.current_song:\n",
        "            if not self.playing:\n",
        "                mixer.music.load(self.current_song)\n",
        "                mixer.music.play()\n",
        "                self.play_button.config(text=\"Pause\")\n",
        "                self.playing = True\n",
        "            else:\n",
        "                mixer.music.pause()\n",
        "                self.play_button.config(text=\"Play\")\n",
        "                self.playing = False\n",
        "\n",
        "    def stop_music(self):\n",
        "        mixer.music.stop()\n",
        "        self.play_button.config(text=\"Play\")\n",
        "        self.playing = False\n",
        "\n",
        "    def browse_music(self):\n",
        "        self.current_song = tk.filedialog.askopenfilename(initialdir=os.getcwd(), title=\"Select Song\",\n",
        "                                                         filetypes=((\"Audio Files\", \"*.mp3\"), (\"All Files\", \"*.*\")))\n",
        "        self.label.config(text=os.path.basename(self.current_song))\n",
        "\n",
        "if __name__ == '__main__':\n",
        "    root = tk.Tk()\n",
        "    music_player = MusicPlayer(root)\n",
        "    root.mainloop()"
      ]
    }
  ]
}